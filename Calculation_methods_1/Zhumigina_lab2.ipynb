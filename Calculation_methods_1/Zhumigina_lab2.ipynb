{
 "cells": [
  {
   "cell_type": "markdown",
   "metadata": {},
   "source": [
    "Лабораторная работа №2 Жумигиной Евгении\n",
    "12 гр, 2 курс\n",
    "Вариант 3"
   ]
  },
  {
   "cell_type": "markdown",
   "metadata": {},
   "source": [
    "                                МИНИСТЕРСТВО ОБРАЗОВАНИЯ РЕСПУБЛИКИ БЕЛАРУСЬ\n",
    "                                   БЕЛОРУССКИЙ ГОСУДАРСТВЕННЫЙ УНИВЕРСИТЕТ\n",
    "                                      Факультет прикладной математики и информатики\n",
    "                                            Кафедра вычслительной математики\n",
    "    \n",
    "<h2 style=\"margin:100px 0px 0px 0px;\">Жумигина Евгения</h2>\n",
    "<h2>Прямые методы решения СЛАУ</h2>\n",
    "\n",
    "<h5 style=\"max-width:350px; owerflow: hidden;\">\n",
    "    Отчет по лабораторной работе №2\n",
    "    ( “Методы вычислений”)\n",
    "    студентки 2 курса 12 группы\n",
    "</h5>\n",
    "\n",
    "<div style=\"text-align: right; margin:120px,0,120px,0;\"> \n",
    "  <br>Преподаватель\n",
    "  <br>Бондарь И. В.\n",
    "</div>\n",
    "\n",
    "                                                        Минск 2019"
   ]
  },
  {
   "cell_type": "markdown",
   "metadata": {},
   "source": [
    "#### Задание 3. Метод Гаусса с выбором ГЭ по всей матрице\n",
    "\n",
    "1. Написать программу, которая решает СЛАУ A x=b  и вычисляет определитель матрицы A методом Гаусса с выбором главного элемента по всей матрице. Применить программу к следующим ниже входным данным и вывести результат.\n",
    "$$A=\\left(\n",
    "\\begin{array}{ccccccccc}\n",
    " 1 & 1 & 1 & 1 & 1 & 1 & 1 & 1 & 1 \\\\\n",
    " 1 & 2 & 4 & 8 & 16 & 32 & 64 & 128 & 256 \\\\\n",
    " 1 & 3 & 9 & 27 & 81 & 243 & 729 & 2187 & 6561 \\\\\n",
    " 1 & 4 & 16 & 64 & 256 & 1024 & 4096 & 16384 & 65536 \\\\\n",
    " 1 & 5 & 25 & 125 & 625 & 3125 & 15625 & 78125 & 390625 \\\\\n",
    " 1 & 6 & 36 & 216 & 1296 & 7776 & 46656 & 279936 & 1679616 \\\\\n",
    " 1 & 7 & 49 & 343 & 2401 & 16807 & 117649 & 823543 & 5764801 \\\\\n",
    " 1 & 8 & 64 & 512 & 4096 & 32768 & 262144 & 2097152 & 16777216 \\\\\n",
    " 1 & 9 & 81 & 729 & 6561 & 59049 & 531441 & 4782969 & 43046721 \\\\\n",
    "\\end{array}\n",
    "\\right)\n",
    "\\quad b =\\left(\n",
    "\\begin{array}{c}\n",
    " 9 \\\\\n",
    " 511 \\\\\n",
    " 9841 \\\\\n",
    " 87381 \\\\\n",
    " 488281 \\\\\n",
    " 2015539 \\\\\n",
    " 6725601 \\\\\n",
    " 19173961 \\\\\n",
    " 48427561 \\\\\n",
    "\\end{array}\n",
    "\\right)$$\n",
    "$$A=\\left(\n",
    "\\begin{array}{ccccccccc}\n",
    " -3 & -1 & -1 & 1 & 4 & 2 & 3 & -4 & -1 \\\\\n",
    " -3 & -1 & 4 & 1 & 0 & 3 & -5 & 5 & 5 \\\\\n",
    " -6 & -2 & 3 & 5 & 3 & -3 & -4 & -3 & 1 \\\\\n",
    " -12 & -4 & 6 & 7 & 2 & 0 & 1 & -2 & -1 \\\\\n",
    " -24 & -8 & 12 & 14 & 9 & 4 & 4 & -1 & 5 \\\\\n",
    " -48 & -16 & 24 & 28 & 18 & 6 & -2 & 1 & -2 \\\\\n",
    " -96 & -32 & 48 & 56 & 36 & 12 & -3 & 2 & 4 \\\\\n",
    " -192 & -64 & 96 & 112 & 72 & 24 & -6 & -2 & 5 \\\\\n",
    " 0 & -1 & 3 & 0 & 2 & 2 & -5 & -3 & 4 \\\\\n",
    "\\end{array}\n",
    "\\right)\n",
    "\\quad b =\\left(\n",
    "\\begin{array}{c}\n",
    " 8 \\\\\n",
    " 79 \\\\\n",
    " -27 \\\\\n",
    " 18 \\\\\n",
    " 186 \\\\\n",
    " 206 \\\\\n",
    " 491 \\\\\n",
    " 907 \\\\\n",
    " 6 \\\\\n",
    "\\end{array}\n",
    "\\right)$$\n",
    "$$A=\\left(\n",
    "\\begin{array}{ccccccccc}\n",
    " 2 & 0 & -5 & -3 & 1 & 1 & 3 & 2 & 2 \\\\\n",
    " 2 & 0 & -5 & -5 & 2 & -1 & 4 & -2 & -3 \\\\\n",
    " 4 & 0 & -10 & -1 & 5 & -3 & 1 & -5 & -5 \\\\\n",
    " 8 & 0 & -20 & -9 & 5 & 1 & 1 & -5 & 4 \\\\\n",
    " 16 & 0 & -40 & -18 & 13 & 1 & -1 & 0 & -3 \\\\\n",
    " 32 & 0 & -80 & -36 & 26 & -1 & 0 & -1 & -5 \\\\\n",
    " 64 & 0 & -160 & -72 & 52 & -2 & 8 & 0 & -2 \\\\\n",
    " 128 & 0 & -320 & -144 & 104 & -4 & 16 & -11 & 5 \\\\\n",
    " -1 & 1 & 1 & 3 & 0 & -3 & 0 & -5 & 3 \\\\\n",
    "\\end{array}\n",
    "\\right)\n",
    "\\quad b =\\left(\n",
    "\\begin{array}{c}\n",
    " 41 \\\\\n",
    " -44 \\\\\n",
    " -101 \\\\\n",
    " -54 \\\\\n",
    " -139 \\\\\n",
    " -281 \\\\\n",
    " -418 \\\\\n",
    " -843 \\\\\n",
    " -15 \\\\\n",
    "\\end{array}\n",
    "\\right)$$\n",
    "\n",
    "2. Найти точное решение указанных систем с использованием библиотеки SymPy или аналогичного программного обеспечения и сравнить результаты.\n",
    "\n",
    "3. Вычислить число обусловленности в максимум-норме матрицы A из второго тестового задания. Что это означает на практике? Путем решения нескольких СЛАУ с возмущенным вектором b подтвердите связь между числом обусловленности и относительными погрешностями начальных данных и решения.\n",
    "\n",
    "4. Проведите экспериментальное исследование скорости решения СЛАУ в зависимости от размерности системы, используя для тестов матрицу $A$ и вектор $b$ со случайными числами. Постройте график зависимости времени работы от размерности. Систему какой размерности ваша программа на вашем компьютере может решить за одну минуту?"
   ]
  },
  {
   "cell_type": "code",
   "execution_count": 39,
   "metadata": {},
   "outputs": [
    {
     "data": {
      "text/plain": [
       "(array([1.        , 1.00000001, 0.99999999, 1.        , 1.        ,\n",
       "        1.        , 1.        , 1.        , 1.        ]), -5056584744964088.0)"
      ]
     },
     "execution_count": 39,
     "metadata": {},
     "output_type": "execute_result"
    }
   ],
   "source": [
    "#метод Гаусса с выбором главного элемента \n",
    "import numpy as np\n",
    "from numpy import linalg as la\n",
    "#оперделитель треугольной матрицы\n",
    "def det_matrix(A):\n",
    "    det=float(1)\n",
    "    for i in range (0, la.matrix_rank(A)):\n",
    "        det*= A[i,i]\n",
    "    return det\n",
    "#прямой ход с выбором главногт элемента\n",
    "def triangular(A, B):\n",
    "    x_change=np.arange(np.size(A, 0))\n",
    "    for k in range(0, (np.size(A, 0)-1)):\n",
    "        i, j=np.unravel_index(np.argmax(A[k:, k:], axis=None), A[k:, k:].shape)\n",
    "        \n",
    "        A[[k, i+k]] = A[[i+k, k]]\n",
    "        A[:,[k, j+k]] = A[:,[j+k, k]]\n",
    "        B[[k, i+k]] = B[[i+k, k]]\n",
    "        x_change[[k, j+k]] = x_change[[j+k, k]]\n",
    "        \n",
    "        if A[k, k] == float(0):\n",
    "            raise Exception(\"Система не может быть решена\")\n",
    "        for i in range(k+1, np.size(A, 0)):\n",
    "            x = A[i, k] / A[k, k]\n",
    "            A[i, k:] -=  A[k, k:]*x\n",
    "            B[i] -=  B[k]*x\n",
    "    return A, B, x_change\n",
    "#обратный ход\n",
    "def calc_x(A, B, x_change):\n",
    "    x_move=np.zeros(la.matrix_rank(A))\n",
    "    for i in range (la.matrix_rank(A)-1, -1, -1):\n",
    "        x_move[i]=B[i]/A[i, i]\n",
    "        for j in range (i-1, -1, -1):\n",
    "            B[j]-= x_move[i]*A[j, i]\n",
    "            \n",
    "    x=np.zeros(la.matrix_rank(A))\n",
    "    \n",
    "    for i in range (0, la.matrix_rank(A)):\n",
    "        x[x_change[i]]=x_move[i]\n",
    "        \n",
    "    return x\n",
    "#функцция вычисления методом Ufeccf\n",
    "def Gauss(A, B):\n",
    "    if np.size(A, 0) != np.size(A, 1):\n",
    "        raise Exception(\"Матрица не является квадратной\")\n",
    "    A,B, x_change = triangular(A, B)\n",
    "    det =det_matrix(A)\n",
    "    x=calc_x(A, B, x_change)\n",
    "    return x, det\n",
    "\n",
    "A = np.array([[1, 1,  1,   1,    1,     1,      1,       1,        1],\n",
    "              [1, 2,  4,   8,   16,    32,     64,     128,      256],\n",
    "              [1, 3,  9,  27,   81,   243,    729,    2187,     6561],\n",
    "              [1, 4, 16,  64,  256,  1024,   4096,   16384,    65536],\n",
    "              [1, 5, 25, 125,  625,  3125,  15625,   78125,   390625],\n",
    "              [1, 6, 36, 216, 1296,  7776,  46656,  279936,  1679616],\n",
    "              [1, 7, 49, 343, 2401, 16807, 117649,  823543,  5764801],\n",
    "              [1, 8, 64, 512, 4096, 32768, 262144, 2097152, 16777216],\n",
    "              [1, 9, 81, 729, 6561, 59049, 531441, 4782969, 43046721]]).astype(float)\n",
    "B = np.array([9, 511, 9841, 87381, 488281, 2015539, 6725601, 19173961, 48427561]).astype(float)\n",
    "Gauss(A, B)"
   ]
  },
  {
   "cell_type": "code",
   "execution_count": 2,
   "metadata": {},
   "outputs": [
    {
     "data": {
      "text/plain": [
       "(array([1., 2., 3., 4., 5., 6., 7., 8., 9.]), -16199.999999999949)"
      ]
     },
     "execution_count": 2,
     "metadata": {},
     "output_type": "execute_result"
    }
   ],
   "source": [
    "A = np.array([[  -3,  -1, -1,   1,  4,  2,  3, -4, -1],\n",
    "              [  -3,  -1,  4,   1,  0,  3, -5,  5,  5],\n",
    "              [  -6,  -2,  3,   5,  3, -3, -4, -3,  1],\n",
    "              [ -12,  -4,  6,   7,  2,  0,  1, -2, -1],\n",
    "              [ -24,  -8, 12,  14,  9,  4,  4, -1,  5],\n",
    "              [ -48, -16, 24,  28, 18,  6, -2,  1, -2],\n",
    "              [ -96, -32, 48,  56, 36, 12, -3,  2,  4],\n",
    "              [-192, -64, 96, 112, 72, 24, -6, -2,  5],\n",
    "              [   0,  -1,  3,   0,  2,  2, -5, -3,  4]]).astype(float)\n",
    "B = np.array([8, 79, -27, 18, 186, 206, 491, 907, 6]).astype(float)\n",
    "Gauss(A, B)"
   ]
  },
  {
   "cell_type": "code",
   "execution_count": 40,
   "metadata": {
    "scrolled": true
   },
   "outputs": [
    {
     "name": "stdout",
     "output_type": "stream",
     "text": [
      "Система не может быть решена\n"
     ]
    }
   ],
   "source": [
    "A = np.array([[ 2,  0,   -5,   -3,   1,  1,  3,   2,  2],\n",
    "              [ 2,  0,   -5,   -5,   2, -1,  4,  -2, -3],\n",
    "              [ 4,  0,  -10,   -1,   5, -3,  1,  -5, -5],\n",
    "              [ 8,  0,  -20,   -9,   5,  1,  1,  -5,  4],\n",
    "              [16,  0,  -40,  -18,  13,  1, -1,   0, -3],\n",
    "              [32,  0,  -80,  -36,  26, -1,  0,  -1, -5],\n",
    "              [64,  0, -160,  -72,  52, -2,  8,   0, -2],\n",
    "              [128, 0, -320, -144, 104, -4, 16, -11,  5],\n",
    "              [ -1, 1,    1,    3,   0, -3,  0,  -5,  3]]).astype(float)\n",
    "B = np.array([41, -44, -101, -54, -139, -281, -418, -843, -15]).astype(float)\n",
    "try:\n",
    "    Gauss(A, B)\n",
    "except Exception as error:\n",
    "    print(error)"
   ]
  },
  {
   "cell_type": "markdown",
   "metadata": {},
   "source": [
    "Решение с помощью библиотеки Sympy:"
   ]
  },
  {
   "cell_type": "code",
   "execution_count": 4,
   "metadata": {},
   "outputs": [
    {
     "data": {
      "text/latex": [
       "$\\displaystyle \\left\\{\\left( 1, \\  1, \\  1, \\  1, \\  1, \\  1, \\  1, \\  1, \\  1\\right)\\right\\}$"
      ],
      "text/plain": [
       "{(1, 1, 1, 1, 1, 1, 1, 1, 1)}"
      ]
     },
     "execution_count": 4,
     "metadata": {},
     "output_type": "execute_result"
    }
   ],
   "source": [
    "from sympy import Matrix, linsolve\n",
    "\n",
    "A = Matrix([[1, 1,  1,   1,    1,     1,      1,       1,        1],\n",
    "            [1, 2,  4,   8,   16,    32,     64,     128,      256],\n",
    "            [1, 3,  9,  27,   81,   243,    729,    2187,     6561],\n",
    "            [1, 4, 16,  64,  256,  1024,   4096,   16384,    65536],\n",
    "            [1, 5, 25, 125,  625,  3125,  15625,   78125,   390625],\n",
    "            [1, 6, 36, 216, 1296,  7776,  46656,  279936,  1679616],\n",
    "            [1, 7, 49, 343, 2401, 16807, 117649,  823543,  5764801],\n",
    "            [1, 8, 64, 512, 4096, 32768, 262144, 2097152, 16777216],\n",
    "            [1, 9, 81, 729, 6561, 59049, 531441, 4782969, 43046721]])\n",
    "B = Matrix([9, 511, 9841, 87381, 488281, 2015539, 6725601, 19173961, 48427561])\n",
    "linsolve((A, B))"
   ]
  },
  {
   "cell_type": "code",
   "execution_count": 5,
   "metadata": {},
   "outputs": [
    {
     "data": {
      "text/latex": [
       "$\\displaystyle \\left\\{\\left( 1, \\  2, \\  3, \\  4, \\  5, \\  6, \\  7, \\  8, \\  9\\right)\\right\\}$"
      ],
      "text/plain": [
       "{(1, 2, 3, 4, 5, 6, 7, 8, 9)}"
      ]
     },
     "execution_count": 5,
     "metadata": {},
     "output_type": "execute_result"
    }
   ],
   "source": [
    "A = Matrix([[  -3,  -1, -1,   1,  4,  2,  3, -4, -1],\n",
    "            [  -3,  -1,  4,   1,  0,  3, -5,  5,  5],\n",
    "            [  -6,  -2,  3,   5,  3, -3, -4, -3,  1],\n",
    "            [ -12,  -4,  6,   7,  2,  0,  1, -2, -1],\n",
    "            [ -24,  -8, 12,  14,  9,  4,  4, -1,  5],\n",
    "            [ -48, -16, 24,  28, 18,  6, -2,  1, -2],\n",
    "            [ -96, -32, 48,  56, 36, 12, -3,  2,  4],\n",
    "            [-192, -64, 96, 112, 72, 24, -6, -2,  5],\n",
    "            [   0,  -1,  3,   0,  2,  2, -5, -3,  4]])\n",
    "B = Matrix([8, 79, -27, 18, 186, 206, 491, 907, 6])\n",
    "linsolve((A, B))"
   ]
  },
  {
   "cell_type": "code",
   "execution_count": 6,
   "metadata": {},
   "outputs": [
    {
     "data": {
      "text/latex": [
       "$\\displaystyle \\left\\{\\left( \\frac{5 \\tau_{0}}{2} - \\frac{13}{2}, \\  \\frac{3 \\tau_{0}}{2} - \\frac{5}{2}, \\  \\tau_{0}, \\  4, \\  5, \\  6, \\  7, \\  8, \\  9\\right)\\right\\}$"
      ],
      "text/plain": [
       "{(5*tau0/2 - 13/2, 3*tau0/2 - 5/2, tau0, 4, 5, 6, 7, 8, 9)}"
      ]
     },
     "execution_count": 6,
     "metadata": {},
     "output_type": "execute_result"
    }
   ],
   "source": [
    "A = Matrix([[ 2,  0,   -5,   -3,   1,  1,  3,   2,  2],\n",
    "            [ 2,  0,   -5,   -5,   2, -1,  4,  -2, -3],\n",
    "            [ 4,  0,  -10,   -1,   5, -3,  1,  -5, -5],\n",
    "            [ 8,  0,  -20,   -9,   5,  1,  1,  -5,  4],\n",
    "            [16,  0,  -40,  -18,  13,  1, -1,   0, -3],\n",
    "            [32,  0,  -80,  -36,  26, -1,  0,  -1, -5],\n",
    "            [64,  0, -160,  -72,  52, -2,  8,   0, -2],\n",
    "            [128, 0, -320, -144, 104, -4, 16, -11,  5],\n",
    "            [ -1, 1,    1,    3,   0, -3,  0,  -5,  3]])\n",
    "B = Matrix([41, -44, -101, -54, -139, -281, -418, -843, -15])\n",
    "linsolve((A, B))"
   ]
  },
  {
   "cell_type": "markdown",
   "metadata": {},
   "source": [
    "Третья матрица вырождена, поэтому методом Гаусса нельзя вычислить такую систему. Решения первой и второй матриц обладают небольшой погрешностью из-за чисел с плавающей точкой."
   ]
  },
  {
   "cell_type": "code",
   "execution_count": 36,
   "metadata": {},
   "outputs": [
    {
     "name": "stdout",
     "output_type": "stream",
     "text": [
      "Condition_number: 10888.876990032973\n",
      "Delta: 0.001111934766493699\n"
     ]
    }
   ],
   "source": [
    "import numpy as np\n",
    "\n",
    "#число обусловленности матрицы означает, во сколько раз погрешность результата увеличитяся по сравнению с погрешностью начальных данных\n",
    "def count_condition_number(A):\n",
    "    condition_number=la.norm(A, np.inf)* la.norm(la.inv(A), np.inf)\n",
    "    return condition_number\n",
    "#относительная погрешность\n",
    "def deltas(A, real_B, real_x, disturbance):\n",
    "    x, det = Gauss(A, real_B+disturbance)\n",
    "    delta_b = la.norm(disturbance, np.inf) / la.norm(real_B, np.inf)\n",
    "    delta_x = la.norm(real_x - x, np.inf) / la.norm(real_x, np.inf)\n",
    "    return delta_b, delta_x\n",
    "#проверим на одной из матриц из задания 1, изменяя только матрицу А и вектор B\n",
    "A = np.array([[  -3,  -1, -1,   1,  4,  2,  3, -4, -1],\n",
    "            [  -3,  -1,  4,   1,  0,  3, -5,  5,  5],\n",
    "            [  -6,  -2,  3,   5,  3, -3, -4, -3,  1],\n",
    "            [ -12,  -4,  6,   7,  2,  0,  1, -2, -1],\n",
    "            [ -24,  -8, 12,  14,  9,  4,  4, -1,  5],\n",
    "            [ -48, -16, 24,  28, 18,  6, -2,  1, -2],\n",
    "            [ -96, -32, 48,  56, 36, 12, -3,  2,  4],\n",
    "            [-192, -64, 96, 112, 72, 24, -6, -2,  5],\n",
    "            [   0,  -1,  3,   0,  2,  2, -5, -3,  4]]).astype(float)\n",
    "disturbance=np.array([1, 1, 1, 1, 1, 1, 1, 1, 1])\n",
    "real_x = np.array([8, 79, -27, 18, 186, 206, 491, 907, 6]).astype(float)\n",
    "real_B = np.array([8, 79, -27, 18, 186, 206, 491, 907, 6]).astype(float)\n",
    "delta_x, delta_b=deltas(A, real_B, real_x, disturbance)\n",
    "c_number=count_condition_number(A)\n",
    "print(\"Condition_number:\", c_number)\n",
    "print(\"Delta:\", delta_x/delta_b)"
   ]
  },
  {
   "cell_type": "code",
   "execution_count": 35,
   "metadata": {
    "scrolled": true
   },
   "outputs": [
    {
     "name": "stdout",
     "output_type": "stream",
     "text": [
      "Condition_number: 17273636865.50361\n",
      "Delta: 0.0011025358355732074\n"
     ]
    }
   ],
   "source": [
    "A = np.array([[1, 1,  1,   1,    1,     1,      1,       1,        1],\n",
    "            [1, 2,  4,   8,   16,    32,     64,     128,      256],\n",
    "            [1, 3,  9,  27,   81,   243,    729,    2187,     6561],\n",
    "            [1, 4, 16,  64,  256,  1024,   4096,   16384,    65536],\n",
    "            [1, 5, 25, 125,  625,  3125,  15625,   78125,   390625],\n",
    "            [1, 6, 36, 216, 1296,  7776,  46656,  279936,  1679616],\n",
    "            [1, 7, 49, 343, 2401, 16807, 117649,  823543,  5764801],\n",
    "            [1, 8, 64, 512, 4096, 32768, 262144, 2097152, 16777216],\n",
    "            [1, 9, 81, 729, 6561, 59049, 531441, 4782969, 43046721]]).astype(float)\n",
    "disturbance=np.array([1,1,1,1,1,1,1,1,1])\n",
    "real_x=np.array([9, 511, 9841, 87381, 488281, 2015539, 6725601, 19173961, 48427561]).astype(float)\n",
    "real_b=np.array([9, 511, 9841, 87381, 488281, 2015539, 6725601, 19173961, 48427561]).astype(float)\n",
    "delta_x, delta_b=deltas(A, real_B, real_x, disturbance)\n",
    "c_number=count_condition_number(A)\n",
    "print(\"Condition_number:\", c_number)\n",
    "print(\"Delta:\", delta_x/delta_b)"
   ]
  },
  {
   "cell_type": "markdown",
   "metadata": {},
   "source": [
    "Относительная погрешность полученного значения возрастает сильнее с возрастанием числа обусловленности, несмотря на то, что возмущение и вектор В не меняется."
   ]
  },
  {
   "cell_type": "code",
   "execution_count": 7,
   "metadata": {},
   "outputs": [
    {
     "name": "stderr",
     "output_type": "stream",
     "text": [
      "/Library/Frameworks/Python.framework/Versions/3.7/lib/python3.7/site-packages/ipykernel_launcher.py:10: RuntimeWarning: overflow encountered in double_scalars\n",
      "  # Remove the CWD from sys.path while we load stuff.\n"
     ]
    },
    {
     "data": {
      "text/plain": [
       "[<matplotlib.lines.Line2D at 0x1157f8a90>]"
      ]
     },
     "execution_count": 7,
     "metadata": {},
     "output_type": "execute_result"
    },
    {
     "data": {
      "image/png": "[encoded data removed]",
      "text/plain": [
       "<Figure size 432x288 with 1 Axes>"
      ]
     },
     "metadata": {
      "needs_background": "light"
     },
     "output_type": "display_data"
    }
   ],
   "source": [
    "\n",
    "import numpy as np\n",
    "import matplotlib.pyplot as plt\n",
    "from numpy import linalg as la\n",
    "from datetime import datetime\n",
    "import time as time_\n",
    "def det_matrix(A):\n",
    "    det=float(1)\n",
    "    for i in range (0, la.matrix_rank(A)):\n",
    "        det*= A[i,i]\n",
    "    return det\n",
    "#прямой ход с выбором главногт элемента\n",
    "def triangular(A, B):\n",
    "    x_change=np.arange(np.size(A, 0))\n",
    "    for k in range(0, (np.size(A, 0)-1)):\n",
    "        i, j=np.unravel_index(np.argmax(A[k:, k:], axis=None), A[k:, k:].shape)\n",
    "        \n",
    "        A[[k, i+k]] = A[[i+k, k]]\n",
    "        A[:,[k, j+k]] = A[:,[j+k, k]]\n",
    "        B[[k, i+k]] = B[[i+k, k]]\n",
    "        x_change[[k, j+k]] = x_change[[j+k, k]]\n",
    "        \n",
    "        if A[k, k] == float(0):\n",
    "            raise Exception(\"Система не может быть решена\")\n",
    "        for i in range(k+1, np.size(A, 0)):\n",
    "            x = A[i, k] / A[k, k]\n",
    "            A[i, k:] -=  A[k, k:]*x\n",
    "            B[i] -=  B[k]*x\n",
    "    return A, B, x_change\n",
    "#обратный ход\n",
    "def calc_x(A, B, x_change):\n",
    "    x_move=np.zeros(la.matrix_rank(A))\n",
    "    for i in range (la.matrix_rank(A)-1, -1, -1):\n",
    "        x_move[i]=B[i]/A[i, i]\n",
    "        for j in range (i-1, -1, -1):\n",
    "            B[j]-= x_move[i]*A[j, i]\n",
    "            \n",
    "    x=np.zeros(la.matrix_rank(A))\n",
    "    \n",
    "    for i in range (0, la.matrix_rank(A)):\n",
    "        x[x_change[i]]=x_move[i]\n",
    "        \n",
    "    return x\n",
    "#функцция вычисления методом Ufeccf\n",
    "def Gauss(A, B):\n",
    "    if np.size(A, 0) != np.size(A, 1):\n",
    "        raise Exception(\"Матрица не является квадратной\")\n",
    "    A,B, x_change = triangular(A, B)\n",
    "    det =det_matrix(A)\n",
    "    x=calc_x(A, B, x_change)\n",
    "    return x, det\n",
    "\n",
    "def count_time(A, B):\n",
    "    start_time = round(time_.time()) * 1000\n",
    "    #start=start_time\n",
    "    Gauss(A, B)\n",
    "    end_time = round(time_.time()) * 1000\n",
    "    #end=end_time\n",
    "    fin=(end_time-start_time)\n",
    "    return fin\n",
    "\n",
    "size=[]\n",
    "time=[]\n",
    "A1 = np.array([[1, 1,  1,   1,    1,     1,      1,       1,        1],\n",
    "              [1, 2,  4,   8,   16,    32,     64,     128,      256],\n",
    "              [1, 3,  9,  27,   81,   243,    729,    2187,     6561],\n",
    "              [1, 4, 16,  64,  256,  1024,   4096,   16384,    65536],\n",
    "              [1, 5, 25, 125,  625,  3125,  15625,   78125,   390625],\n",
    "              [1, 6, 36, 216, 1296,  7776,  46656,  279936,  1679616],\n",
    "              [1, 7, 49, 343, 2401, 16807, 117649,  823543,  5764801],\n",
    "              [1, 8, 64, 512, 4096, 32768, 262144, 2097152, 16777216],\n",
    "              [1, 9, 81, 729, 6561, 59049, 531441, 4782969, 43046721]]).astype(float)\n",
    "B1 = np.array([9, 511, 9841, 87381, 488281, 2015539, 6725601, 19173961, 48427561]).astype(float)\n",
    "size.append(len(B1))\n",
    "time.append(count_time(A1, B1))\n",
    "\n",
    "A2 = np.array([[  -3,  -1, -1,   1,  4,  2,  3, -4, -1],\n",
    "              [  -3,  -1,  4,   1,  0,  3, -5,  5,  5],\n",
    "              [  -6,  -2,  3,   5,  3, -3, -4, -3,  1],\n",
    "              [ -12,  -4,  6,   7,  2,  0,  1, -2, -1],\n",
    "              [ -24,  -8, 12,  14,  9,  4,  4, -1,  5],\n",
    "              [ -48, -16, 24,  28, 18,  6, -2,  1, -2],\n",
    "              [ -96, -32, 48,  56, 36, 12, -3,  2,  4],\n",
    "              [-192, -64, 96, 112, 72, 24, -6, -2,  5],\n",
    "              [   0,  -1,  3,   0,  2,  2, -5, -3,  4]]).astype(float)\n",
    "B2 = np.array([8, 79, -27, 18, 186, 206, 491, 907, 6]).astype(float)\n",
    "size.append(len(B2))\n",
    "time.append(count_time(A2, B2))\n",
    "\n",
    "for i in range(3, 9):\n",
    "    m=i*100\n",
    "    a=[]\n",
    "    a = np.random.random((m, m))\n",
    "    b=[]\n",
    "    b = np.random.random((m,1))\n",
    "    size.append(len(b))\n",
    "    time.append(count_time(a, b))\n",
    "    \n",
    "plt.plot(size, time)"
   ]
  },
  {
   "cell_type": "markdown",
   "metadata": {},
   "source": [
    "Сгенерировав несколько матриц и посчитав время рабты программы можно построить график. На графике видно, что вместе с размерностью системы возрастает время работы программы,и возрастает нелинейно. На моем компьютере за минуту можно решить систему размерности 2200-2500(приблизитеьно)."
   ]
  },
  {
   "cell_type": "code",
   "execution_count": null,
   "metadata": {},
   "outputs": [],
   "source": []
  }
 ],
 "metadata": {
  "kernelspec": {
   "display_name": "Python 3",
   "language": "python",
   "name": "python3"
  },
  "language_info": {
   "codemirror_mode": {
    "name": "ipython",
    "version": 3
   },
   "file_extension": ".py",
   "mimetype": "text/x-python",
   "name": "python",
   "nbconvert_exporter": "python",
   "pygments_lexer": "ipython3",
   "version": "3.7.3"
  }
 },
 "nbformat": 4,
 "nbformat_minor": 2
}
